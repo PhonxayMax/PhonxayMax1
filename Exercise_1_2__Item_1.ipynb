{
  "nbformat": 4,
  "nbformat_minor": 0,
  "metadata": {
    "colab": {
      "provenance": [],
      "authorship_tag": "ABX9TyMacXRC23dMz3KBVTe2oUPB",
      "include_colab_link": true
    },
    "kernelspec": {
      "name": "python3",
      "display_name": "Python 3"
    },
    "language_info": {
      "name": "python"
    }
  },
  "cells": [
    {
      "cell_type": "markdown",
      "metadata": {
        "id": "view-in-github",
        "colab_type": "text"
      },
      "source": [
        "<a href=\"https://colab.research.google.com/github/PhonxayMax/PhonxayMax1/blob/main/Exercise_1_2__Item_1.ipynb\" target=\"_parent\"><img src=\"https://colab.research.google.com/assets/colab-badge.svg\" alt=\"Open In Colab\"/></a>"
      ]
    },
    {
      "cell_type": "code",
      "execution_count": 6,
      "metadata": {
        "colab": {
          "base_uri": "https://localhost:8080/"
        },
        "id": "xVr_uNMks4ma",
        "outputId": "af08ad45-50d8-4517-9778-37a259d2bc85"
      },
      "outputs": [
        {
          "output_type": "stream",
          "name": "stdout",
          "text": [
            "(\")_(\")    (\"\")-(\"\")\n",
            "           ('')... .('')\n",
            "( * , *)     (\")-(\")     \n",
            "(\\_/)      ( '  o  ')    \n"
          ]
        }
      ],
      "source": [
        "print('(\")_(\")    (\"\")-(\"\")')\n",
        "print(\"           ('')... .('')\")\n",
        "print('( * , *)     (\")-(\")     ')\n",
        "print(\"(\\_/)      ( '  o  ')    \")"
      ]
    }
  ]
}